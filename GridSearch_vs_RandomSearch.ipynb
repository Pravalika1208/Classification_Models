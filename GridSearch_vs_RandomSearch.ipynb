{
  "nbformat": 4,
  "nbformat_minor": 0,
  "metadata": {
    "colab": {
      "provenance": []
    },
    "kernelspec": {
      "name": "python3",
      "display_name": "Python 3"
    },
    "language_info": {
      "name": "python"
    }
  },
  "cells": [
    {
      "cell_type": "markdown",
      "source": [
        "Import Libraries"
      ],
      "metadata": {
        "id": "tlKLnrmw5ycr"
      }
    },
    {
      "cell_type": "code",
      "execution_count": null,
      "metadata": {
        "id": "8B-OdICf0zup"
      },
      "outputs": [],
      "source": [
        "import pandas as pd\n",
        "import numpy as np\n",
        "import matplotlib.pyplot as plt\n",
        "import seaborn as sns\n",
        "from sklearn.model_selection import train_test_split,GridSearchCV,RandomizedSearchCV\n",
        "from sklearn.ensemble import RandomForestClassifier\n",
        "from sklearn.datasets import load_iris\n",
        "from sklearn.metrics import accuracy_score, confusion_matrix, classification_report"
      ]
    },
    {
      "cell_type": "markdown",
      "source": [
        "Load and Explore Dataset"
      ],
      "metadata": {
        "id": "wQBIiT0N7zGr"
      }
    },
    {
      "cell_type": "code",
      "source": [
        "df=load_iris()\n",
        "x=df.data\n",
        "y=df.target"
      ],
      "metadata": {
        "id": "-rzRjmdn7xjF"
      },
      "execution_count": null,
      "outputs": []
    },
    {
      "cell_type": "markdown",
      "source": [
        "Define Hyperparameter Grid"
      ],
      "metadata": {
        "id": "fsy7vtrq8u8b"
      }
    },
    {
      "cell_type": "code",
      "source": [
        "param_grid={\n",
        "    'n_estimators':[10,50,100,200],\n",
        "    'max_depth':[5,10,20,None],\n",
        "    'min_samples_split':[2,5,10],\n",
        "    'min_samples_leaf':[1,2,4]\n",
        "}\n",
        "X_train,X_test,y_train,y_test=train_test_split(x,y,test_size=0.2,random_state=42)"
      ],
      "metadata": {
        "id": "T0AgXtIe78TL"
      },
      "execution_count": 4,
      "outputs": []
    },
    {
      "cell_type": "markdown",
      "source": [
        "Apply Grid Search CV"
      ],
      "metadata": {
        "id": "bMU5M8Q0906k"
      }
    },
    {
      "cell_type": "code",
      "source": [
        "grid_search=GridSearchCV(RandomForestClassifier(),param_grid,cv=5,n_jobs=-1,verbose=1)\n",
        "grid_search.fit(X_train,y_train)\n",
        "print(\"Best Parameters from Grid Search:\",grid_search.best_params_)"
      ],
      "metadata": {
        "id": "e_dr85m69Oht",
        "colab": {
          "base_uri": "https://localhost:8080/"
        },
        "outputId": "fd40124a-1fdb-45bb-b171-1096a5055d37"
      },
      "execution_count": 5,
      "outputs": [
        {
          "output_type": "stream",
          "name": "stdout",
          "text": [
            "Fitting 5 folds for each of 144 candidates, totalling 720 fits\n",
            "Best Parameters from Grid Search: {'max_depth': 5, 'min_samples_leaf': 2, 'min_samples_split': 10, 'n_estimators': 50}\n"
          ]
        }
      ]
    },
    {
      "cell_type": "markdown",
      "source": [
        "Apply Randomized Search CV"
      ],
      "metadata": {
        "id": "dNjwvL1P-llM"
      }
    },
    {
      "cell_type": "code",
      "source": [
        "random_search=RandomizedSearchCV(RandomForestClassifier(),param_grid,n_iter=10,cv=5,n_jobs=-1,verbose=1,random_state=42)\n",
        "random_search.fit(X_train,y_train)\n",
        "print(\"Best Parameters from Randomized Search:\",random_search.best_params_)"
      ],
      "metadata": {
        "colab": {
          "base_uri": "https://localhost:8080/"
        },
        "id": "VgV60T4b-hkO",
        "outputId": "aeeed81d-d993-463b-9299-d9871db67f85"
      },
      "execution_count": 7,
      "outputs": [
        {
          "output_type": "stream",
          "name": "stdout",
          "text": [
            "Fitting 5 folds for each of 10 candidates, totalling 50 fits\n",
            "Best Parameters from Randomized Search: {'n_estimators': 10, 'min_samples_split': 2, 'min_samples_leaf': 4, 'max_depth': None}\n"
          ]
        }
      ]
    },
    {
      "cell_type": "markdown",
      "source": [
        "Evaluate Model Performance"
      ],
      "metadata": {
        "id": "LWcnHLUl_ie1"
      }
    },
    {
      "cell_type": "code",
      "source": [
        "best_grid_model=grid_search.best_estimator_\n",
        "best_random_model=random_search.best_estimator_\n",
        "y_pred_grid=best_grid_model.predict(X_test)\n",
        "y_pred_random=best_random_model.predict(X_test)\n",
        "acc_grid=accuracy_score(y_test,y_pred_grid)\n",
        "acc_random=accuracy_score(y_test,y_pred_random)\n",
        "print(\"Accuracy with Grid Search:\",acc_grid)\n",
        "print(\"Accuracy with Randomized Search:\",acc_random)"
      ],
      "metadata": {
        "colab": {
          "base_uri": "https://localhost:8080/"
        },
        "id": "Pr-vyipu_FA1",
        "outputId": "d96d8200-0c81-4941-bceb-2f3014958256"
      },
      "execution_count": 8,
      "outputs": [
        {
          "output_type": "stream",
          "name": "stdout",
          "text": [
            "Accuracy with Grid Search: 1.0\n",
            "Accuracy with Randomized Search: 1.0\n"
          ]
        }
      ]
    },
    {
      "cell_type": "code",
      "source": [],
      "metadata": {
        "id": "6qn2CqOcAP62"
      },
      "execution_count": null,
      "outputs": []
    }
  ]
}